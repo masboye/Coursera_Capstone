{
 "cells": [
  {
   "cell_type": "code",
   "execution_count": 1,
   "metadata": {},
   "outputs": [],
   "source": [
    "import pandas as pd\n",
    "from pandas import DataFrame"
   ]
  },
  {
   "cell_type": "code",
   "execution_count": 28,
   "metadata": {},
   "outputs": [],
   "source": [
    "df = pd.read_excel('EvoluciónsiniestrostransitoChile-1972-2019-actualizado.xlsx')"
   ]
  },
  {
   "cell_type": "code",
   "execution_count": 29,
   "metadata": {},
   "outputs": [],
   "source": [
    "df.rename(columns={\"Evolución de siniestros de tránsito, consecuencias e indicadores (Período 1972-2019)\": \"Year\"},inplace=True)\n",
    "df.rename(columns={\"Unnamed: 1\": \"Accident\"},inplace=True)\n",
    "df.rename(columns={\"Unnamed: 2\": \"Fatality\"},inplace=True)\n",
    "df.rename(columns={\"Unnamed: 3\": \"Heavy Injuries\"},inplace=True)\n",
    "df.rename(columns={\"Unnamed: 4\": \"Medium Injuries\"},inplace=True)\n",
    "df.rename(columns={\"Unnamed: 5\": \"Light Injuries\"},inplace=True)\n",
    "df.rename(columns={\"Unnamed: 10\": \"Vehicles\"},inplace=True)\n",
    "df.rename(columns={\"Unnamed: 11\": \"Population\"},inplace=True)\n",
    "df = df[['Year','Accident','Fatality','Heavy Injuries','Medium Injuries','Light Injuries','Vehicles','Population']]\n",
    "df = df.drop([0, 1,2])\n",
    "df.reset_index(inplace=True,drop=True)"
   ]
  },
  {
   "cell_type": "code",
   "execution_count": 30,
   "metadata": {},
   "outputs": [
    {
     "data": {
      "text/html": [
       "<div>\n",
       "<style scoped>\n",
       "    .dataframe tbody tr th:only-of-type {\n",
       "        vertical-align: middle;\n",
       "    }\n",
       "\n",
       "    .dataframe tbody tr th {\n",
       "        vertical-align: top;\n",
       "    }\n",
       "\n",
       "    .dataframe thead th {\n",
       "        text-align: right;\n",
       "    }\n",
       "</style>\n",
       "<table border=\"1\" class=\"dataframe\">\n",
       "  <thead>\n",
       "    <tr style=\"text-align: right;\">\n",
       "      <th></th>\n",
       "      <th>Year</th>\n",
       "      <th>Accident</th>\n",
       "      <th>Fatality</th>\n",
       "      <th>Heavy Injuries</th>\n",
       "      <th>Medium Injuries</th>\n",
       "      <th>Light Injuries</th>\n",
       "      <th>Vehicles</th>\n",
       "      <th>Population</th>\n",
       "    </tr>\n",
       "  </thead>\n",
       "  <tbody>\n",
       "    <tr>\n",
       "      <th>0</th>\n",
       "      <td>1972</td>\n",
       "      <td>26727</td>\n",
       "      <td>1792</td>\n",
       "      <td>6590</td>\n",
       "      <td>5624</td>\n",
       "      <td>11027</td>\n",
       "      <td>401114</td>\n",
       "      <td>9907065</td>\n",
       "    </tr>\n",
       "    <tr>\n",
       "      <th>1</th>\n",
       "      <td>1973</td>\n",
       "      <td>23480</td>\n",
       "      <td>1719</td>\n",
       "      <td>6020</td>\n",
       "      <td>5153</td>\n",
       "      <td>10079</td>\n",
       "      <td>417767</td>\n",
       "      <td>10075782</td>\n",
       "    </tr>\n",
       "    <tr>\n",
       "      <th>2</th>\n",
       "      <td>1974</td>\n",
       "      <td>18356</td>\n",
       "      <td>1269</td>\n",
       "      <td>4935</td>\n",
       "      <td>3763</td>\n",
       "      <td>7938</td>\n",
       "      <td>431172</td>\n",
       "      <td>10244501</td>\n",
       "    </tr>\n",
       "    <tr>\n",
       "      <th>3</th>\n",
       "      <td>1975</td>\n",
       "      <td>16602</td>\n",
       "      <td>1054</td>\n",
       "      <td>4208</td>\n",
       "      <td>3479</td>\n",
       "      <td>7142</td>\n",
       "      <td>445693</td>\n",
       "      <td>10413219</td>\n",
       "    </tr>\n",
       "    <tr>\n",
       "      <th>4</th>\n",
       "      <td>1976</td>\n",
       "      <td>17716</td>\n",
       "      <td>1079</td>\n",
       "      <td>4322</td>\n",
       "      <td>3456</td>\n",
       "      <td>7355</td>\n",
       "      <td>466049</td>\n",
       "      <td>10565409</td>\n",
       "    </tr>\n",
       "  </tbody>\n",
       "</table>\n",
       "</div>"
      ],
      "text/plain": [
       "   Year Accident Fatality Heavy Injuries Medium Injuries Light Injuries  \\\n",
       "0  1972    26727     1792           6590            5624          11027   \n",
       "1  1973    23480     1719           6020            5153          10079   \n",
       "2  1974    18356     1269           4935            3763           7938   \n",
       "3  1975    16602     1054           4208            3479           7142   \n",
       "4  1976    17716     1079           4322            3456           7355   \n",
       "\n",
       "  Vehicles Population  \n",
       "0   401114    9907065  \n",
       "1   417767   10075782  \n",
       "2   431172   10244501  \n",
       "3   445693   10413219  \n",
       "4   466049   10565409  "
      ]
     },
     "execution_count": 30,
     "metadata": {},
     "output_type": "execute_result"
    }
   ],
   "source": [
    "df.head()"
   ]
  },
  {
   "cell_type": "code",
   "execution_count": null,
   "metadata": {},
   "outputs": [],
   "source": []
  }
 ],
 "metadata": {
  "kernelspec": {
   "display_name": "Python 3",
   "language": "python",
   "name": "python3"
  },
  "language_info": {
   "codemirror_mode": {
    "name": "ipython",
    "version": 3
   },
   "file_extension": ".py",
   "mimetype": "text/x-python",
   "name": "python",
   "nbconvert_exporter": "python",
   "pygments_lexer": "ipython3",
   "version": "3.7.6"
  }
 },
 "nbformat": 4,
 "nbformat_minor": 4
}
